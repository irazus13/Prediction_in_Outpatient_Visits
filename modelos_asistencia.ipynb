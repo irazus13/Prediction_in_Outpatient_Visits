{
 "cells": [
  {
   "cell_type": "code",
   "execution_count": 175,
   "id": "02bfff38",
   "metadata": {
    "ExecuteTime": {
     "end_time": "2022-03-07T09:56:21.465851Z",
     "start_time": "2022-03-07T09:56:21.454852Z"
    }
   },
   "outputs": [],
   "source": [
    "import pandas as pd\n",
    "import datetime\n",
    "import statsmodels.api as sm\n",
    "from statsmodels.stats.outliers_influence import variance_inflation_factor\n",
    "from sklearn.feature_selection import SelectFromModel\n",
    "from sklearn.linear_model import LogisticRegression\n",
    "from sklearn.naive_bayes import GaussianNB\n",
    "from imblearn.under_sampling import RandomUnderSampler\n",
    "from imblearn.under_sampling import NearMiss\n",
    "from imblearn.under_sampling import CondensedNearestNeighbour\n",
    "from sklearn.ensemble import RandomForestClassifier\n",
    "from sklearn.model_selection import train_test_split\n",
    "from sklearn.metrics import confusion_matrix\n",
    "from sklearn.neural_network import MLPClassifier\n",
    "from xgboost import XGBClassifier \n",
    "from sklearn.svm import SVC\n",
    "import matplotlib.pyplot as plt\n",
    "from sklearn.tree import plot_tree\n",
    "from sklearn.preprocessing import OneHotEncoder\n",
    "from sklearn.model_selection import cross_val_score\n",
    "from sklearn.model_selection import GridSearchCV\n",
    "from sklearn.pipeline import Pipeline"
   ]
  },
  {
   "cell_type": "code",
   "execution_count": 59,
   "id": "cb37b1d2",
   "metadata": {
    "ExecuteTime": {
     "end_time": "2022-03-07T08:02:21.890323Z",
     "start_time": "2022-03-07T08:02:21.574011Z"
    }
   },
   "outputs": [],
   "source": [
    "df=pd.read_csv(\"asistencia_limpio2.csv\")"
   ]
  },
  {
   "cell_type": "code",
   "execution_count": null,
   "id": "86e9b780",
   "metadata": {},
   "outputs": [],
   "source": [
    "DISCRETIZAR LA VARIABLE KM\n",
    "standardscaler para: dia,semana,año, numero total visitas? o todas\n",
    "Undersample y oversample\n",
    "el split va antes de hacer el scaler, etc"
   ]
  },
  {
   "cell_type": "code",
   "execution_count": 134,
   "id": "5529e78d",
   "metadata": {
    "ExecuteTime": {
     "end_time": "2022-03-07T09:26:07.299723Z",
     "start_time": "2022-03-07T09:26:07.289727Z"
    }
   },
   "outputs": [
    {
     "data": {
      "text/plain": [
       "fecha_cita                                object\n",
       "horario_inicio                             int64\n",
       "edad                                       int64\n",
       "departamento                              object\n",
       "asistencia                                object\n",
       "km                                       float64\n",
       "genero                                    object\n",
       "dia_semana                                 int64\n",
       "semana                                     int64\n",
       "año                                        int64\n",
       "numero de visita                           int64\n",
       "numero_total_visitas                       int64\n",
       "nacionalidad2                             object\n",
       "inasistencias_previas                      int64\n",
       "porcentaje_inasistencia_departamentos    float64\n",
       "dtype: object"
      ]
     },
     "execution_count": 134,
     "metadata": {},
     "output_type": "execute_result"
    }
   ],
   "source": [
    "df.dtypes"
   ]
  },
  {
   "cell_type": "code",
   "execution_count": 60,
   "id": "d70eb57a",
   "metadata": {
    "ExecuteTime": {
     "end_time": "2022-03-07T08:02:28.554784Z",
     "start_time": "2022-03-07T08:02:28.535783Z"
    }
   },
   "outputs": [
    {
     "data": {
      "text/html": [
       "<div>\n",
       "<style scoped>\n",
       "    .dataframe tbody tr th:only-of-type {\n",
       "        vertical-align: middle;\n",
       "    }\n",
       "\n",
       "    .dataframe tbody tr th {\n",
       "        vertical-align: top;\n",
       "    }\n",
       "\n",
       "    .dataframe thead th {\n",
       "        text-align: right;\n",
       "    }\n",
       "</style>\n",
       "<table border=\"1\" class=\"dataframe\">\n",
       "  <thead>\n",
       "    <tr style=\"text-align: right;\">\n",
       "      <th></th>\n",
       "      <th>fecha_cita</th>\n",
       "      <th>horario_inicio</th>\n",
       "      <th>edad</th>\n",
       "      <th>departamento</th>\n",
       "      <th>asistencia</th>\n",
       "      <th>km</th>\n",
       "      <th>genero</th>\n",
       "      <th>dia_semana</th>\n",
       "      <th>semana</th>\n",
       "      <th>año</th>\n",
       "      <th>numero de visita</th>\n",
       "      <th>numero_total_visitas</th>\n",
       "      <th>nacionalidad2</th>\n",
       "      <th>inasistencias_previas</th>\n",
       "      <th>porcentaje_inasistencia_departamentos</th>\n",
       "    </tr>\n",
       "  </thead>\n",
       "  <tbody>\n",
       "    <tr>\n",
       "      <th>0</th>\n",
       "      <td>2018-09-03</td>\n",
       "      <td>9</td>\n",
       "      <td>68</td>\n",
       "      <td>integrada</td>\n",
       "      <td>SI</td>\n",
       "      <td>53.3</td>\n",
       "      <td>femenino</td>\n",
       "      <td>1</td>\n",
       "      <td>36</td>\n",
       "      <td>2018</td>\n",
       "      <td>1</td>\n",
       "      <td>45</td>\n",
       "      <td>ESP</td>\n",
       "      <td>0</td>\n",
       "      <td>0.185608</td>\n",
       "    </tr>\n",
       "    <tr>\n",
       "      <th>1</th>\n",
       "      <td>2018-09-03</td>\n",
       "      <td>9</td>\n",
       "      <td>43</td>\n",
       "      <td>integrada</td>\n",
       "      <td>NO</td>\n",
       "      <td>3.24</td>\n",
       "      <td>femenino</td>\n",
       "      <td>1</td>\n",
       "      <td>36</td>\n",
       "      <td>2018</td>\n",
       "      <td>1</td>\n",
       "      <td>2</td>\n",
       "      <td>ESP</td>\n",
       "      <td>0</td>\n",
       "      <td>0.185608</td>\n",
       "    </tr>\n",
       "    <tr>\n",
       "      <th>2</th>\n",
       "      <td>2018-09-03</td>\n",
       "      <td>9</td>\n",
       "      <td>36</td>\n",
       "      <td>integrada</td>\n",
       "      <td>SI</td>\n",
       "      <td>3.24</td>\n",
       "      <td>masculino</td>\n",
       "      <td>1</td>\n",
       "      <td>36</td>\n",
       "      <td>2018</td>\n",
       "      <td>1</td>\n",
       "      <td>5</td>\n",
       "      <td>ESP</td>\n",
       "      <td>0</td>\n",
       "      <td>0.185608</td>\n",
       "    </tr>\n",
       "    <tr>\n",
       "      <th>3</th>\n",
       "      <td>2018-09-03</td>\n",
       "      <td>11</td>\n",
       "      <td>78</td>\n",
       "      <td>integrada</td>\n",
       "      <td>SI</td>\n",
       "      <td>6.78</td>\n",
       "      <td>femenino</td>\n",
       "      <td>1</td>\n",
       "      <td>36</td>\n",
       "      <td>2018</td>\n",
       "      <td>1</td>\n",
       "      <td>92</td>\n",
       "      <td>ESP</td>\n",
       "      <td>0</td>\n",
       "      <td>0.185608</td>\n",
       "    </tr>\n",
       "    <tr>\n",
       "      <th>4</th>\n",
       "      <td>2018-09-03</td>\n",
       "      <td>10</td>\n",
       "      <td>75</td>\n",
       "      <td>integrada</td>\n",
       "      <td>SI</td>\n",
       "      <td>2.21</td>\n",
       "      <td>masculino</td>\n",
       "      <td>1</td>\n",
       "      <td>36</td>\n",
       "      <td>2018</td>\n",
       "      <td>1</td>\n",
       "      <td>19</td>\n",
       "      <td>ESP</td>\n",
       "      <td>0</td>\n",
       "      <td>0.185608</td>\n",
       "    </tr>\n",
       "  </tbody>\n",
       "</table>\n",
       "</div>"
      ],
      "text/plain": [
       "   fecha_cita  horario_inicio  edad departamento asistencia    km     genero  \\\n",
       "0  2018-09-03               9    68    integrada         SI  53.3   femenino   \n",
       "1  2018-09-03               9    43    integrada         NO  3.24   femenino   \n",
       "2  2018-09-03               9    36    integrada         SI  3.24  masculino   \n",
       "3  2018-09-03              11    78    integrada         SI  6.78   femenino   \n",
       "4  2018-09-03              10    75    integrada         SI  2.21  masculino   \n",
       "\n",
       "   dia_semana  semana   año  numero de visita  numero_total_visitas  \\\n",
       "0           1      36  2018                 1                    45   \n",
       "1           1      36  2018                 1                     2   \n",
       "2           1      36  2018                 1                     5   \n",
       "3           1      36  2018                 1                    92   \n",
       "4           1      36  2018                 1                    19   \n",
       "\n",
       "  nacionalidad2  inasistencias_previas  porcentaje_inasistencia_departamentos  \n",
       "0           ESP                      0                               0.185608  \n",
       "1           ESP                      0                               0.185608  \n",
       "2           ESP                      0                               0.185608  \n",
       "3           ESP                      0                               0.185608  \n",
       "4           ESP                      0                               0.185608  "
      ]
     },
     "execution_count": 60,
     "metadata": {},
     "output_type": "execute_result"
    }
   ],
   "source": [
    "df.head()"
   ]
  },
  {
   "cell_type": "code",
   "execution_count": 62,
   "id": "45b9da72",
   "metadata": {
    "ExecuteTime": {
     "end_time": "2022-03-07T08:03:30.556803Z",
     "start_time": "2022-03-07T08:03:30.499417Z"
    }
   },
   "outputs": [
    {
     "data": {
      "text/plain": [
       "fecha_cita  horario_inicio  edad  departamento   asistencia  km        genero     dia_semana  semana  año   numero de visita  numero_total_visitas  nacionalidad2  inasistencias_previas  porcentaje_inasistencia_departamentos\n",
       "2020-04-24  14              31    integrada      NO          error cp  masculino  5           17      2020  1                 1                     ESP            0                      0.185608                                 6\n",
       "2020-03-20  14              31    integrada      NO          error cp  femenino   5           12      2020  1                 1                     ESP            0                      0.185608                                 4\n",
       "2020-04-03  14              31    integrada      NO          error cp  femenino   5           14      2020  1                 1                     ESP            0                      0.185608                                 4\n",
       "2020-03-20  14              31    integrada      NO          error cp  masculino  5           12      2020  1                 1                     ESP            0                      0.185608                                 3\n",
       "2019-03-22  14              26    integrada      SI          error cp  masculino  5           12      2019  1                 1                     ESP            0                      0.185608                                 3\n",
       "                                                                                                                                                                                                                                  ..\n",
       "2019-10-11  9               66    integrada      SI          error cp  masculino  5           41      2019  9                 24                    ESP            1                      0.185608                                 1\n",
       "                            68    m_periodoncia  SI          error cp  femenino   5           41      2019  31                121                   ESP            6                      0.162169                                 1\n",
       "                            71    integrada      SI          error cp  masculino  5           41      2019  4                 17                    ESP            0                      0.185608                                 1\n",
       "            10              15    integrada      SI          error cp  masculino  5           41      2019  2                 4                     ESP            0                      0.185608                                 1\n",
       "2021-08-27  8               33    integrada      SI          error cp  masculino  5           34      2021  3                 3                     ESP            0                      0.185608                                 1\n",
       "Length: 14423, dtype: int64"
      ]
     },
     "execution_count": 62,
     "metadata": {},
     "output_type": "execute_result"
    }
   ],
   "source": [
    "#en km hay alguno con error en codigo postal, decido eliminarlos\n",
    "df[df.km==\"error cp\"].value_counts()"
   ]
  },
  {
   "cell_type": "code",
   "execution_count": 63,
   "id": "1b74e01d",
   "metadata": {
    "ExecuteTime": {
     "end_time": "2022-03-07T08:03:36.089519Z",
     "start_time": "2022-03-07T08:03:36.045315Z"
    }
   },
   "outputs": [],
   "source": [
    "df=df[df.km!=\"error cp\"]"
   ]
  },
  {
   "cell_type": "code",
   "execution_count": 64,
   "id": "e2b6a136",
   "metadata": {
    "ExecuteTime": {
     "end_time": "2022-03-07T08:03:40.276988Z",
     "start_time": "2022-03-07T08:03:40.226933Z"
    },
    "scrolled": true
   },
   "outputs": [],
   "source": [
    "df[\"km\"]=df.km.astype(float)"
   ]
  },
  {
   "cell_type": "code",
   "execution_count": 94,
   "id": "419ebb9c",
   "metadata": {
    "ExecuteTime": {
     "end_time": "2022-03-07T08:37:32.623086Z",
     "start_time": "2022-03-07T08:37:32.541684Z"
    }
   },
   "outputs": [],
   "source": [
    "df.dropna(axis=0,inplace=True)"
   ]
  },
  {
   "cell_type": "code",
   "execution_count": 66,
   "id": "5c57288b",
   "metadata": {
    "ExecuteTime": {
     "end_time": "2022-03-07T08:03:53.873383Z",
     "start_time": "2022-03-07T08:03:53.855380Z"
    }
   },
   "outputs": [
    {
     "data": {
      "text/plain": [
       "18    33263\n",
       "16    30253\n",
       "10    28867\n",
       "17    25496\n",
       "12    20831\n",
       "15    20360\n",
       "8     20256\n",
       "11    18874\n",
       "9     15591\n",
       "19    15196\n",
       "13     8827\n",
       "20     8234\n",
       "14     6774\n",
       "21      133\n",
       "22        2\n",
       "Name: horario_inicio, dtype: int64"
      ]
     },
     "execution_count": 66,
     "metadata": {},
     "output_type": "execute_result"
    }
   ],
   "source": [
    "df.horario_inicio.value_counts()"
   ]
  },
  {
   "cell_type": "code",
   "execution_count": 67,
   "id": "267a8e50",
   "metadata": {
    "ExecuteTime": {
     "end_time": "2022-03-07T08:04:19.988429Z",
     "start_time": "2022-03-07T08:04:19.154922Z"
    },
    "scrolled": true
   },
   "outputs": [
    {
     "data": {
      "text/plain": [
       "<AxesSubplot:>"
      ]
     },
     "execution_count": 67,
     "metadata": {},
     "output_type": "execute_result"
    },
    {
     "data": {
      "image/png": "[encoded data removed]",
      "text/plain": [
       "<Figure size 432x288 with 2 Axes>"
      ]
     },
     "metadata": {
      "needs_background": "light"
     },
     "output_type": "display_data"
    }
   ],
   "source": [
    "sns.heatmap(df.corr(),annot=True)"
   ]
  },
  {
   "cell_type": "code",
   "execution_count": 56,
   "id": "4c27480d",
   "metadata": {
    "ExecuteTime": {
     "end_time": "2022-03-06T09:50:18.165560Z",
     "start_time": "2022-03-06T09:50:18.147177Z"
    }
   },
   "outputs": [],
   "source": [
    "from sklearn.preprocessing import OneHotEncoder\n",
    "from sklearn.linear_model import LinearRegression, Lasso, Ridge, ElasticNet\n",
    "from sklearn.metrics import classification_report\n",
    "from sklearn.model_selection import train_test_split\n",
    "from sklearn.tree import DecisionTreeRegressor"
   ]
  },
  {
   "cell_type": "code",
   "execution_count": 26,
   "id": "357ed88d",
   "metadata": {
    "ExecuteTime": {
     "end_time": "2022-03-06T09:39:07.441120Z",
     "start_time": "2022-03-06T09:39:07.410255Z"
    },
    "scrolled": true
   },
   "outputs": [
    {
     "data": {
      "text/html": [
       "<div>\n",
       "<style scoped>\n",
       "    .dataframe tbody tr th:only-of-type {\n",
       "        vertical-align: middle;\n",
       "    }\n",
       "\n",
       "    .dataframe tbody tr th {\n",
       "        vertical-align: top;\n",
       "    }\n",
       "\n",
       "    .dataframe thead th {\n",
       "        text-align: right;\n",
       "    }\n",
       "</style>\n",
       "<table border=\"1\" class=\"dataframe\">\n",
       "  <thead>\n",
       "    <tr style=\"text-align: right;\">\n",
       "      <th></th>\n",
       "      <th>fecha_cita</th>\n",
       "      <th>horario_inicio</th>\n",
       "      <th>edad</th>\n",
       "      <th>departamento</th>\n",
       "      <th>asistencia</th>\n",
       "      <th>km</th>\n",
       "      <th>genero</th>\n",
       "      <th>dia_semana</th>\n",
       "      <th>semana</th>\n",
       "      <th>año</th>\n",
       "      <th>numero de visita</th>\n",
       "      <th>nacionalidad2</th>\n",
       "      <th>numero_total_visitas</th>\n",
       "      <th>inasistencias_previas</th>\n",
       "      <th>porcentaje_inasistencia_departamentos</th>\n",
       "    </tr>\n",
       "  </thead>\n",
       "  <tbody>\n",
       "    <tr>\n",
       "      <th>0</th>\n",
       "      <td>2018-09-03</td>\n",
       "      <td>9</td>\n",
       "      <td>68</td>\n",
       "      <td>integrada</td>\n",
       "      <td>SI</td>\n",
       "      <td>53.30</td>\n",
       "      <td>femenino</td>\n",
       "      <td>1</td>\n",
       "      <td>36</td>\n",
       "      <td>2018</td>\n",
       "      <td>1</td>\n",
       "      <td>ESP</td>\n",
       "      <td>45</td>\n",
       "      <td>0</td>\n",
       "      <td>0.185608</td>\n",
       "    </tr>\n",
       "    <tr>\n",
       "      <th>1</th>\n",
       "      <td>2018-09-03</td>\n",
       "      <td>9</td>\n",
       "      <td>43</td>\n",
       "      <td>integrada</td>\n",
       "      <td>NO</td>\n",
       "      <td>3.24</td>\n",
       "      <td>femenino</td>\n",
       "      <td>1</td>\n",
       "      <td>36</td>\n",
       "      <td>2018</td>\n",
       "      <td>1</td>\n",
       "      <td>ESP</td>\n",
       "      <td>2</td>\n",
       "      <td>0</td>\n",
       "      <td>0.185608</td>\n",
       "    </tr>\n",
       "    <tr>\n",
       "      <th>2</th>\n",
       "      <td>2018-09-03</td>\n",
       "      <td>9</td>\n",
       "      <td>35</td>\n",
       "      <td>integrada</td>\n",
       "      <td>SI</td>\n",
       "      <td>3.24</td>\n",
       "      <td>masculino</td>\n",
       "      <td>1</td>\n",
       "      <td>36</td>\n",
       "      <td>2018</td>\n",
       "      <td>1</td>\n",
       "      <td>ESP</td>\n",
       "      <td>5</td>\n",
       "      <td>0</td>\n",
       "      <td>0.185608</td>\n",
       "    </tr>\n",
       "    <tr>\n",
       "      <th>3</th>\n",
       "      <td>2018-09-03</td>\n",
       "      <td>11</td>\n",
       "      <td>78</td>\n",
       "      <td>integrada</td>\n",
       "      <td>SI</td>\n",
       "      <td>6.78</td>\n",
       "      <td>femenino</td>\n",
       "      <td>1</td>\n",
       "      <td>36</td>\n",
       "      <td>2018</td>\n",
       "      <td>1</td>\n",
       "      <td>ESP</td>\n",
       "      <td>92</td>\n",
       "      <td>0</td>\n",
       "      <td>0.185608</td>\n",
       "    </tr>\n",
       "    <tr>\n",
       "      <th>4</th>\n",
       "      <td>2018-09-03</td>\n",
       "      <td>10</td>\n",
       "      <td>75</td>\n",
       "      <td>integrada</td>\n",
       "      <td>SI</td>\n",
       "      <td>2.21</td>\n",
       "      <td>masculino</td>\n",
       "      <td>1</td>\n",
       "      <td>36</td>\n",
       "      <td>2018</td>\n",
       "      <td>1</td>\n",
       "      <td>ESP</td>\n",
       "      <td>19</td>\n",
       "      <td>0</td>\n",
       "      <td>0.185608</td>\n",
       "    </tr>\n",
       "  </tbody>\n",
       "</table>\n",
       "</div>"
      ],
      "text/plain": [
       "   fecha_cita  horario_inicio  edad departamento asistencia     km     genero  \\\n",
       "0  2018-09-03               9    68    integrada         SI  53.30   femenino   \n",
       "1  2018-09-03               9    43    integrada         NO   3.24   femenino   \n",
       "2  2018-09-03               9    35    integrada         SI   3.24  masculino   \n",
       "3  2018-09-03              11    78    integrada         SI   6.78   femenino   \n",
       "4  2018-09-03              10    75    integrada         SI   2.21  masculino   \n",
       "\n",
       "   dia_semana  semana   año  numero de visita nacionalidad2  \\\n",
       "0           1      36  2018                 1           ESP   \n",
       "1           1      36  2018                 1           ESP   \n",
       "2           1      36  2018                 1           ESP   \n",
       "3           1      36  2018                 1           ESP   \n",
       "4           1      36  2018                 1           ESP   \n",
       "\n",
       "   numero_total_visitas  inasistencias_previas  \\\n",
       "0                    45                      0   \n",
       "1                     2                      0   \n",
       "2                     5                      0   \n",
       "3                    92                      0   \n",
       "4                    19                      0   \n",
       "\n",
       "   porcentaje_inasistencia_departamentos  \n",
       "0                               0.185608  \n",
       "1                               0.185608  \n",
       "2                               0.185608  \n",
       "3                               0.185608  \n",
       "4                               0.185608  "
      ]
     },
     "execution_count": 26,
     "metadata": {},
     "output_type": "execute_result"
    }
   ],
   "source": [
    "df.head()"
   ]
  },
  {
   "cell_type": "markdown",
   "id": "86858aeb",
   "metadata": {},
   "source": [
    "## Km"
   ]
  },
  {
   "cell_type": "code",
   "execution_count": 119,
   "id": "85b905ac",
   "metadata": {
    "ExecuteTime": {
     "end_time": "2022-03-07T08:59:41.821135Z",
     "start_time": "2022-03-07T08:59:41.702068Z"
    }
   },
   "outputs": [
    {
     "name": "stderr",
     "output_type": "stream",
     "text": [
      "C:\\Users\\irazu\\anaconda3\\lib\\site-packages\\seaborn\\_decorators.py:36: FutureWarning: Pass the following variable as a keyword arg: x. From version 0.12, the only valid positional argument will be `data`, and passing other arguments without an explicit keyword will result in an error or misinterpretation.\n",
      "  warnings.warn(\n"
     ]
    },
    {
     "data": {
      "text/plain": [
       "<AxesSubplot:xlabel='km'>"
      ]
     },
     "execution_count": 119,
     "metadata": {},
     "output_type": "execute_result"
    },
    {
     "data": {
      "image/png": "[encoded data removed]",
      "text/plain": [
       "<Figure size 432x288 with 1 Axes>"
      ]
     },
     "metadata": {
      "needs_background": "light"
     },
     "output_type": "display_data"
    }
   ],
   "source": [
    "sns.boxplot(df.km)"
   ]
  },
  {
   "cell_type": "code",
   "execution_count": null,
   "id": "42084767",
   "metadata": {},
   "outputs": [],
   "source": [
    "#discretizo la variable kbinsDiscretizer, para tener el rango de distancia"
   ]
  },
  {
   "cell_type": "code",
   "execution_count": 113,
   "id": "7af4c267",
   "metadata": {
    "ExecuteTime": {
     "end_time": "2022-03-07T08:55:39.383004Z",
     "start_time": "2022-03-07T08:55:39.358964Z"
    },
    "scrolled": true
   },
   "outputs": [
    {
     "data": {
      "text/plain": [
       "14.89     32890\n",
       "10.00     32447\n",
       "2.21      29278\n",
       "9.38      25313\n",
       "3.24      24602\n",
       "          ...  \n",
       "64.50         1\n",
       "724.54        1\n",
       "59.66         1\n",
       "311.82        1\n",
       "71.46         1\n",
       "Name: km, Length: 417, dtype: int64"
      ]
     },
     "execution_count": 113,
     "metadata": {},
     "output_type": "execute_result"
    }
   ],
   "source": [
    "df.km.value_counts()"
   ]
  },
  {
   "cell_type": "code",
   "execution_count": 117,
   "id": "f0fd77c8",
   "metadata": {
    "ExecuteTime": {
     "end_time": "2022-03-07T08:56:43.873382Z",
     "start_time": "2022-03-07T08:56:38.430886Z"
    }
   },
   "outputs": [
    {
     "name": "stderr",
     "output_type": "stream",
     "text": [
      "C:\\Users\\irazu\\anaconda3\\lib\\site-packages\\seaborn\\_decorators.py:36: FutureWarning: Pass the following variable as a keyword arg: x. From version 0.12, the only valid positional argument will be `data`, and passing other arguments without an explicit keyword will result in an error or misinterpretation.\n",
      "  warnings.warn(\n"
     ]
    },
    {
     "data": {
      "text/plain": [
       "<AxesSubplot:xlabel='km', ylabel='count'>"
      ]
     },
     "execution_count": 117,
     "metadata": {},
     "output_type": "execute_result"
    },
    {
     "data": {
      "image/png": "[encoded data removed]",
      "text/plain": [
       "<Figure size 432x288 with 1 Axes>"
      ]
     },
     "metadata": {
      "needs_background": "light"
     },
     "output_type": "display_data"
    }
   ],
   "source": [
    "sns.countplot(df.km)"
   ]
  },
  {
   "cell_type": "markdown",
   "id": "e2b7dc9c",
   "metadata": {},
   "source": [
    "## Horario de inicio"
   ]
  },
  {
   "cell_type": "code",
   "execution_count": 76,
   "id": "e7316b18",
   "metadata": {
    "ExecuteTime": {
     "end_time": "2022-03-07T08:09:51.386310Z",
     "start_time": "2022-03-07T08:09:51.212307Z"
    },
    "scrolled": true
   },
   "outputs": [
    {
     "name": "stderr",
     "output_type": "stream",
     "text": [
      "C:\\Users\\irazu\\anaconda3\\lib\\site-packages\\seaborn\\_decorators.py:36: FutureWarning: Pass the following variable as a keyword arg: x. From version 0.12, the only valid positional argument will be `data`, and passing other arguments without an explicit keyword will result in an error or misinterpretation.\n",
      "  warnings.warn(\n"
     ]
    },
    {
     "data": {
      "text/plain": [
       "<AxesSubplot:xlabel='horario_inicio', ylabel='count'>"
      ]
     },
     "execution_count": 76,
     "metadata": {},
     "output_type": "execute_result"
    },
    {
     "data": {
      "image/png": "[encoded data removed]",
      "text/plain": [
       "<Figure size 432x288 with 1 Axes>"
      ]
     },
     "metadata": {
      "needs_background": "light"
     },
     "output_type": "display_data"
    }
   ],
   "source": [
    "sns.countplot(df.horario_inicio)"
   ]
  },
  {
   "cell_type": "code",
   "execution_count": 81,
   "id": "fd491a5e",
   "metadata": {
    "ExecuteTime": {
     "end_time": "2022-03-07T08:11:56.250325Z",
     "start_time": "2022-03-07T08:11:56.223290Z"
    }
   },
   "outputs": [
    {
     "data": {
      "text/plain": [
       "18    6177\n",
       "16    5112\n",
       "10    5030\n",
       "17    4223\n",
       "8     3712\n",
       "12    3640\n",
       "15    3478\n",
       "11    3295\n",
       "9     2821\n",
       "19    2789\n",
       "20    1770\n",
       "13    1357\n",
       "14    1215\n",
       "21      14\n",
       "Name: horario_inicio, dtype: int64"
      ]
     },
     "execution_count": 81,
     "metadata": {},
     "output_type": "execute_result"
    }
   ],
   "source": [
    "df[df.asistencia==\"NO\"][\"horario_inicio\"].value_counts()"
   ]
  },
  {
   "cell_type": "code",
   "execution_count": 78,
   "id": "db891c04",
   "metadata": {
    "ExecuteTime": {
     "end_time": "2022-03-07T08:11:15.836324Z",
     "start_time": "2022-03-07T08:11:15.664746Z"
    },
    "scrolled": true
   },
   "outputs": [
    {
     "name": "stderr",
     "output_type": "stream",
     "text": [
      "C:\\Users\\irazu\\anaconda3\\lib\\site-packages\\seaborn\\_decorators.py:36: FutureWarning: Pass the following variable as a keyword arg: x. From version 0.12, the only valid positional argument will be `data`, and passing other arguments without an explicit keyword will result in an error or misinterpretation.\n",
      "  warnings.warn(\n"
     ]
    },
    {
     "data": {
      "text/plain": [
       "<AxesSubplot:xlabel='horario_inicio', ylabel='count'>"
      ]
     },
     "execution_count": 78,
     "metadata": {},
     "output_type": "execute_result"
    },
    {
     "data": {
      "image/png": "[encoded data removed]",
      "text/plain": [
       "<Figure size 432x288 with 1 Axes>"
      ]
     },
     "metadata": {
      "needs_background": "light"
     },
     "output_type": "display_data"
    }
   ],
   "source": [
    "sns.countplot(df[df.asistencia==\"NO\"][\"horario_inicio\"])"
   ]
  },
  {
   "cell_type": "code",
   "execution_count": 82,
   "id": "47c910e6",
   "metadata": {
    "ExecuteTime": {
     "end_time": "2022-03-07T08:12:08.595414Z",
     "start_time": "2022-03-07T08:12:08.382412Z"
    }
   },
   "outputs": [
    {
     "name": "stderr",
     "output_type": "stream",
     "text": [
      "C:\\Users\\irazu\\anaconda3\\lib\\site-packages\\seaborn\\_decorators.py:36: FutureWarning: Pass the following variable as a keyword arg: x. From version 0.12, the only valid positional argument will be `data`, and passing other arguments without an explicit keyword will result in an error or misinterpretation.\n",
      "  warnings.warn(\n"
     ]
    },
    {
     "data": {
      "text/plain": [
       "<AxesSubplot:xlabel='horario_inicio', ylabel='count'>"
      ]
     },
     "execution_count": 82,
     "metadata": {},
     "output_type": "execute_result"
    },
    {
     "data": {
      "image/png": "[encoded data removed]",
      "text/plain": [
       "<Figure size 432x288 with 1 Axes>"
      ]
     },
     "metadata": {
      "needs_background": "light"
     },
     "output_type": "display_data"
    }
   ],
   "source": [
    "sns.countplot(df[df.asistencia==\"SI\"][\"horario_inicio\"])"
   ]
  },
  {
   "cell_type": "code",
   "execution_count": 75,
   "id": "5b1119bd",
   "metadata": {
    "ExecuteTime": {
     "end_time": "2022-03-07T08:09:32.269961Z",
     "start_time": "2022-03-07T08:09:32.090957Z"
    },
    "scrolled": false
   },
   "outputs": [
    {
     "name": "stderr",
     "output_type": "stream",
     "text": [
      "C:\\Users\\irazu\\anaconda3\\lib\\site-packages\\seaborn\\_decorators.py:36: FutureWarning: Pass the following variable as a keyword arg: x. From version 0.12, the only valid positional argument will be `data`, and passing other arguments without an explicit keyword will result in an error or misinterpretation.\n",
      "  warnings.warn(\n"
     ]
    },
    {
     "data": {
      "text/plain": [
       "<AxesSubplot:xlabel='asistencia', ylabel='count'>"
      ]
     },
     "execution_count": 75,
     "metadata": {},
     "output_type": "execute_result"
    },
    {
     "data": {
      "image/png": "[encoded data removed]",
      "text/plain": [
       "<Figure size 432x288 with 1 Axes>"
      ]
     },
     "metadata": {
      "needs_background": "light"
     },
     "output_type": "display_data"
    }
   ],
   "source": [
    "sns.countplot(df.asistencia)"
   ]
  },
  {
   "cell_type": "code",
   "execution_count": 74,
   "id": "b44043d0",
   "metadata": {
    "ExecuteTime": {
     "end_time": "2022-03-07T08:09:21.417860Z",
     "start_time": "2022-03-07T08:09:21.220843Z"
    },
    "scrolled": true
   },
   "outputs": [
    {
     "name": "stderr",
     "output_type": "stream",
     "text": [
      "C:\\Users\\irazu\\anaconda3\\lib\\site-packages\\seaborn\\_decorators.py:36: FutureWarning: Pass the following variable as a keyword arg: x. From version 0.12, the only valid positional argument will be `data`, and passing other arguments without an explicit keyword will result in an error or misinterpretation.\n",
      "  warnings.warn(\n"
     ]
    },
    {
     "data": {
      "text/plain": [
       "<AxesSubplot:xlabel='genero', ylabel='count'>"
      ]
     },
     "execution_count": 74,
     "metadata": {},
     "output_type": "execute_result"
    },
    {
     "data": {
      "image/png": "[encoded data removed]",
      "text/plain": [
       "<Figure size 432x288 with 1 Axes>"
      ]
     },
     "metadata": {
      "needs_background": "light"
     },
     "output_type": "display_data"
    }
   ],
   "source": [
    "sns.countplot(df.genero)"
   ]
  },
  {
   "cell_type": "markdown",
   "id": "3ee8f640",
   "metadata": {},
   "source": [
    "# Modelos"
   ]
  },
  {
   "cell_type": "code",
   "execution_count": 101,
   "id": "06855a71",
   "metadata": {
    "ExecuteTime": {
     "end_time": "2022-03-07T08:45:09.646569Z",
     "start_time": "2022-03-07T08:45:09.625555Z"
    }
   },
   "outputs": [
    {
     "data": {
      "text/html": [
       "<div>\n",
       "<style scoped>\n",
       "    .dataframe tbody tr th:only-of-type {\n",
       "        vertical-align: middle;\n",
       "    }\n",
       "\n",
       "    .dataframe tbody tr th {\n",
       "        vertical-align: top;\n",
       "    }\n",
       "\n",
       "    .dataframe thead th {\n",
       "        text-align: right;\n",
       "    }\n",
       "</style>\n",
       "<table border=\"1\" class=\"dataframe\">\n",
       "  <thead>\n",
       "    <tr style=\"text-align: right;\">\n",
       "      <th></th>\n",
       "      <th>fecha_cita</th>\n",
       "      <th>horario_inicio</th>\n",
       "      <th>edad</th>\n",
       "      <th>departamento</th>\n",
       "      <th>asistencia</th>\n",
       "      <th>km</th>\n",
       "      <th>genero</th>\n",
       "      <th>dia_semana</th>\n",
       "      <th>semana</th>\n",
       "      <th>año</th>\n",
       "      <th>numero de visita</th>\n",
       "      <th>numero_total_visitas</th>\n",
       "      <th>nacionalidad2</th>\n",
       "      <th>inasistencias_previas</th>\n",
       "      <th>porcentaje_inasistencia_departamentos</th>\n",
       "    </tr>\n",
       "  </thead>\n",
       "  <tbody>\n",
       "    <tr>\n",
       "      <th>0</th>\n",
       "      <td>2018-09-03</td>\n",
       "      <td>9</td>\n",
       "      <td>68</td>\n",
       "      <td>integrada</td>\n",
       "      <td>SI</td>\n",
       "      <td>53.30</td>\n",
       "      <td>femenino</td>\n",
       "      <td>1</td>\n",
       "      <td>36</td>\n",
       "      <td>2018</td>\n",
       "      <td>1</td>\n",
       "      <td>45</td>\n",
       "      <td>ESP</td>\n",
       "      <td>0</td>\n",
       "      <td>0.185608</td>\n",
       "    </tr>\n",
       "    <tr>\n",
       "      <th>1</th>\n",
       "      <td>2018-09-03</td>\n",
       "      <td>9</td>\n",
       "      <td>43</td>\n",
       "      <td>integrada</td>\n",
       "      <td>NO</td>\n",
       "      <td>3.24</td>\n",
       "      <td>femenino</td>\n",
       "      <td>1</td>\n",
       "      <td>36</td>\n",
       "      <td>2018</td>\n",
       "      <td>1</td>\n",
       "      <td>2</td>\n",
       "      <td>ESP</td>\n",
       "      <td>0</td>\n",
       "      <td>0.185608</td>\n",
       "    </tr>\n",
       "    <tr>\n",
       "      <th>2</th>\n",
       "      <td>2018-09-03</td>\n",
       "      <td>9</td>\n",
       "      <td>36</td>\n",
       "      <td>integrada</td>\n",
       "      <td>SI</td>\n",
       "      <td>3.24</td>\n",
       "      <td>masculino</td>\n",
       "      <td>1</td>\n",
       "      <td>36</td>\n",
       "      <td>2018</td>\n",
       "      <td>1</td>\n",
       "      <td>5</td>\n",
       "      <td>ESP</td>\n",
       "      <td>0</td>\n",
       "      <td>0.185608</td>\n",
       "    </tr>\n",
       "    <tr>\n",
       "      <th>3</th>\n",
       "      <td>2018-09-03</td>\n",
       "      <td>11</td>\n",
       "      <td>78</td>\n",
       "      <td>integrada</td>\n",
       "      <td>SI</td>\n",
       "      <td>6.78</td>\n",
       "      <td>femenino</td>\n",
       "      <td>1</td>\n",
       "      <td>36</td>\n",
       "      <td>2018</td>\n",
       "      <td>1</td>\n",
       "      <td>92</td>\n",
       "      <td>ESP</td>\n",
       "      <td>0</td>\n",
       "      <td>0.185608</td>\n",
       "    </tr>\n",
       "    <tr>\n",
       "      <th>4</th>\n",
       "      <td>2018-09-03</td>\n",
       "      <td>10</td>\n",
       "      <td>75</td>\n",
       "      <td>integrada</td>\n",
       "      <td>SI</td>\n",
       "      <td>2.21</td>\n",
       "      <td>masculino</td>\n",
       "      <td>1</td>\n",
       "      <td>36</td>\n",
       "      <td>2018</td>\n",
       "      <td>1</td>\n",
       "      <td>19</td>\n",
       "      <td>ESP</td>\n",
       "      <td>0</td>\n",
       "      <td>0.185608</td>\n",
       "    </tr>\n",
       "  </tbody>\n",
       "</table>\n",
       "</div>"
      ],
      "text/plain": [
       "   fecha_cita  horario_inicio  edad departamento asistencia     km     genero  \\\n",
       "0  2018-09-03               9    68    integrada         SI  53.30   femenino   \n",
       "1  2018-09-03               9    43    integrada         NO   3.24   femenino   \n",
       "2  2018-09-03               9    36    integrada         SI   3.24  masculino   \n",
       "3  2018-09-03              11    78    integrada         SI   6.78   femenino   \n",
       "4  2018-09-03              10    75    integrada         SI   2.21  masculino   \n",
       "\n",
       "   dia_semana  semana   año  numero de visita  numero_total_visitas  \\\n",
       "0           1      36  2018                 1                    45   \n",
       "1           1      36  2018                 1                     2   \n",
       "2           1      36  2018                 1                     5   \n",
       "3           1      36  2018                 1                    92   \n",
       "4           1      36  2018                 1                    19   \n",
       "\n",
       "  nacionalidad2  inasistencias_previas  porcentaje_inasistencia_departamentos  \n",
       "0           ESP                      0                               0.185608  \n",
       "1           ESP                      0                               0.185608  \n",
       "2           ESP                      0                               0.185608  \n",
       "3           ESP                      0                               0.185608  \n",
       "4           ESP                      0                               0.185608  "
      ]
     },
     "execution_count": 101,
     "metadata": {},
     "output_type": "execute_result"
    }
   ],
   "source": [
    "df.head()"
   ]
  },
  {
   "cell_type": "code",
   "execution_count": 122,
   "id": "65d01666",
   "metadata": {
    "ExecuteTime": {
     "end_time": "2022-03-07T09:15:08.102669Z",
     "start_time": "2022-03-07T09:15:08.052637Z"
    }
   },
   "outputs": [],
   "source": [
    "y=y.replace(\"NO\",0).replace(\"SI\",1)"
   ]
  },
  {
   "cell_type": "code",
   "execution_count": 108,
   "id": "1aad8b0c",
   "metadata": {
    "ExecuteTime": {
     "end_time": "2022-03-07T08:47:03.781146Z",
     "start_time": "2022-03-07T08:47:03.756139Z"
    }
   },
   "outputs": [],
   "source": [
    "df2=df[[\"horario_inicio\",\"edad\",\"genero\",\"nacionalidad2\",\"km\",\"dia_semana\",\"semana\",\"año\",\"numero de visita\",\n",
    "      \"inasistencias_previas\",\"porcentaje_inasistencia_departamentos\"]]"
   ]
  },
  {
   "cell_type": "code",
   "execution_count": 109,
   "id": "4bfa0cda",
   "metadata": {
    "ExecuteTime": {
     "end_time": "2022-03-07T08:47:04.048087Z",
     "start_time": "2022-03-07T08:47:04.022081Z"
    }
   },
   "outputs": [
    {
     "data": {
      "text/html": [
       "<div>\n",
       "<style scoped>\n",
       "    .dataframe tbody tr th:only-of-type {\n",
       "        vertical-align: middle;\n",
       "    }\n",
       "\n",
       "    .dataframe tbody tr th {\n",
       "        vertical-align: top;\n",
       "    }\n",
       "\n",
       "    .dataframe thead th {\n",
       "        text-align: right;\n",
       "    }\n",
       "</style>\n",
       "<table border=\"1\" class=\"dataframe\">\n",
       "  <thead>\n",
       "    <tr style=\"text-align: right;\">\n",
       "      <th></th>\n",
       "      <th>horario_inicio</th>\n",
       "      <th>edad</th>\n",
       "      <th>genero</th>\n",
       "      <th>nacionalidad2</th>\n",
       "      <th>km</th>\n",
       "      <th>dia_semana</th>\n",
       "      <th>semana</th>\n",
       "      <th>año</th>\n",
       "      <th>numero de visita</th>\n",
       "      <th>inasistencias_previas</th>\n",
       "      <th>porcentaje_inasistencia_departamentos</th>\n",
       "    </tr>\n",
       "  </thead>\n",
       "  <tbody>\n",
       "    <tr>\n",
       "      <th>0</th>\n",
       "      <td>9</td>\n",
       "      <td>68</td>\n",
       "      <td>femenino</td>\n",
       "      <td>ESP</td>\n",
       "      <td>53.30</td>\n",
       "      <td>1</td>\n",
       "      <td>36</td>\n",
       "      <td>2018</td>\n",
       "      <td>1</td>\n",
       "      <td>0</td>\n",
       "      <td>0.185608</td>\n",
       "    </tr>\n",
       "    <tr>\n",
       "      <th>1</th>\n",
       "      <td>9</td>\n",
       "      <td>43</td>\n",
       "      <td>femenino</td>\n",
       "      <td>ESP</td>\n",
       "      <td>3.24</td>\n",
       "      <td>1</td>\n",
       "      <td>36</td>\n",
       "      <td>2018</td>\n",
       "      <td>1</td>\n",
       "      <td>0</td>\n",
       "      <td>0.185608</td>\n",
       "    </tr>\n",
       "    <tr>\n",
       "      <th>2</th>\n",
       "      <td>9</td>\n",
       "      <td>36</td>\n",
       "      <td>masculino</td>\n",
       "      <td>ESP</td>\n",
       "      <td>3.24</td>\n",
       "      <td>1</td>\n",
       "      <td>36</td>\n",
       "      <td>2018</td>\n",
       "      <td>1</td>\n",
       "      <td>0</td>\n",
       "      <td>0.185608</td>\n",
       "    </tr>\n",
       "    <tr>\n",
       "      <th>3</th>\n",
       "      <td>11</td>\n",
       "      <td>78</td>\n",
       "      <td>femenino</td>\n",
       "      <td>ESP</td>\n",
       "      <td>6.78</td>\n",
       "      <td>1</td>\n",
       "      <td>36</td>\n",
       "      <td>2018</td>\n",
       "      <td>1</td>\n",
       "      <td>0</td>\n",
       "      <td>0.185608</td>\n",
       "    </tr>\n",
       "    <tr>\n",
       "      <th>4</th>\n",
       "      <td>10</td>\n",
       "      <td>75</td>\n",
       "      <td>masculino</td>\n",
       "      <td>ESP</td>\n",
       "      <td>2.21</td>\n",
       "      <td>1</td>\n",
       "      <td>36</td>\n",
       "      <td>2018</td>\n",
       "      <td>1</td>\n",
       "      <td>0</td>\n",
       "      <td>0.185608</td>\n",
       "    </tr>\n",
       "  </tbody>\n",
       "</table>\n",
       "</div>"
      ],
      "text/plain": [
       "   horario_inicio  edad     genero nacionalidad2     km  dia_semana  semana  \\\n",
       "0               9    68   femenino           ESP  53.30           1      36   \n",
       "1               9    43   femenino           ESP   3.24           1      36   \n",
       "2               9    36  masculino           ESP   3.24           1      36   \n",
       "3              11    78   femenino           ESP   6.78           1      36   \n",
       "4              10    75  masculino           ESP   2.21           1      36   \n",
       "\n",
       "    año  numero de visita  inasistencias_previas  \\\n",
       "0  2018                 1                      0   \n",
       "1  2018                 1                      0   \n",
       "2  2018                 1                      0   \n",
       "3  2018                 1                      0   \n",
       "4  2018                 1                      0   \n",
       "\n",
       "   porcentaje_inasistencia_departamentos  \n",
       "0                               0.185608  \n",
       "1                               0.185608  \n",
       "2                               0.185608  \n",
       "3                               0.185608  \n",
       "4                               0.185608  "
      ]
     },
     "execution_count": 109,
     "metadata": {},
     "output_type": "execute_result"
    }
   ],
   "source": [
    "#DATASET FINAL\n",
    "df2.head()"
   ]
  },
  {
   "cell_type": "code",
   "execution_count": 110,
   "id": "234807b8",
   "metadata": {
    "ExecuteTime": {
     "end_time": "2022-03-07T08:47:07.177854Z",
     "start_time": "2022-03-07T08:47:07.109592Z"
    }
   },
   "outputs": [],
   "source": [
    "#esto lo tengo que hacer dentro de pipelines para probar el targetencoder y onehotencoder- pagina 41 del 17.2\n",
    "#get_dummies de genero y nacionalidad\n",
    "df2=pd.get_dummies(df2,columns=[\"genero\",\"nacionalidad2\"])"
   ]
  },
  {
   "cell_type": "code",
   "execution_count": 151,
   "id": "2be5ab1c",
   "metadata": {
    "ExecuteTime": {
     "end_time": "2022-03-07T09:37:49.613515Z",
     "start_time": "2022-03-07T09:37:49.590517Z"
    }
   },
   "outputs": [
    {
     "data": {
      "text/html": [
       "<div>\n",
       "<style scoped>\n",
       "    .dataframe tbody tr th:only-of-type {\n",
       "        vertical-align: middle;\n",
       "    }\n",
       "\n",
       "    .dataframe tbody tr th {\n",
       "        vertical-align: top;\n",
       "    }\n",
       "\n",
       "    .dataframe thead th {\n",
       "        text-align: right;\n",
       "    }\n",
       "</style>\n",
       "<table border=\"1\" class=\"dataframe\">\n",
       "  <thead>\n",
       "    <tr style=\"text-align: right;\">\n",
       "      <th></th>\n",
       "      <th>horario_inicio</th>\n",
       "      <th>edad</th>\n",
       "      <th>km</th>\n",
       "      <th>dia_semana</th>\n",
       "      <th>semana</th>\n",
       "      <th>año</th>\n",
       "      <th>numero de visita</th>\n",
       "      <th>inasistencias_previas</th>\n",
       "      <th>porcentaje_inasistencia_departamentos</th>\n",
       "      <th>genero_femenino</th>\n",
       "      <th>genero_masculino</th>\n",
       "      <th>nacionalidad2_ESP</th>\n",
       "      <th>nacionalidad2_Extranjero</th>\n",
       "    </tr>\n",
       "  </thead>\n",
       "  <tbody>\n",
       "    <tr>\n",
       "      <th>0</th>\n",
       "      <td>9</td>\n",
       "      <td>68</td>\n",
       "      <td>53.30</td>\n",
       "      <td>1</td>\n",
       "      <td>36</td>\n",
       "      <td>2018</td>\n",
       "      <td>1</td>\n",
       "      <td>0</td>\n",
       "      <td>0.185608</td>\n",
       "      <td>1</td>\n",
       "      <td>0</td>\n",
       "      <td>1</td>\n",
       "      <td>0</td>\n",
       "    </tr>\n",
       "    <tr>\n",
       "      <th>1</th>\n",
       "      <td>9</td>\n",
       "      <td>43</td>\n",
       "      <td>3.24</td>\n",
       "      <td>1</td>\n",
       "      <td>36</td>\n",
       "      <td>2018</td>\n",
       "      <td>1</td>\n",
       "      <td>0</td>\n",
       "      <td>0.185608</td>\n",
       "      <td>1</td>\n",
       "      <td>0</td>\n",
       "      <td>1</td>\n",
       "      <td>0</td>\n",
       "    </tr>\n",
       "    <tr>\n",
       "      <th>2</th>\n",
       "      <td>9</td>\n",
       "      <td>36</td>\n",
       "      <td>3.24</td>\n",
       "      <td>1</td>\n",
       "      <td>36</td>\n",
       "      <td>2018</td>\n",
       "      <td>1</td>\n",
       "      <td>0</td>\n",
       "      <td>0.185608</td>\n",
       "      <td>0</td>\n",
       "      <td>1</td>\n",
       "      <td>1</td>\n",
       "      <td>0</td>\n",
       "    </tr>\n",
       "    <tr>\n",
       "      <th>3</th>\n",
       "      <td>11</td>\n",
       "      <td>78</td>\n",
       "      <td>6.78</td>\n",
       "      <td>1</td>\n",
       "      <td>36</td>\n",
       "      <td>2018</td>\n",
       "      <td>1</td>\n",
       "      <td>0</td>\n",
       "      <td>0.185608</td>\n",
       "      <td>1</td>\n",
       "      <td>0</td>\n",
       "      <td>1</td>\n",
       "      <td>0</td>\n",
       "    </tr>\n",
       "    <tr>\n",
       "      <th>4</th>\n",
       "      <td>10</td>\n",
       "      <td>75</td>\n",
       "      <td>2.21</td>\n",
       "      <td>1</td>\n",
       "      <td>36</td>\n",
       "      <td>2018</td>\n",
       "      <td>1</td>\n",
       "      <td>0</td>\n",
       "      <td>0.185608</td>\n",
       "      <td>0</td>\n",
       "      <td>1</td>\n",
       "      <td>1</td>\n",
       "      <td>0</td>\n",
       "    </tr>\n",
       "    <tr>\n",
       "      <th>...</th>\n",
       "      <td>...</td>\n",
       "      <td>...</td>\n",
       "      <td>...</td>\n",
       "      <td>...</td>\n",
       "      <td>...</td>\n",
       "      <td>...</td>\n",
       "      <td>...</td>\n",
       "      <td>...</td>\n",
       "      <td>...</td>\n",
       "      <td>...</td>\n",
       "      <td>...</td>\n",
       "      <td>...</td>\n",
       "      <td>...</td>\n",
       "    </tr>\n",
       "    <tr>\n",
       "      <th>267544</th>\n",
       "      <td>10</td>\n",
       "      <td>78</td>\n",
       "      <td>10.00</td>\n",
       "      <td>5</td>\n",
       "      <td>34</td>\n",
       "      <td>2021</td>\n",
       "      <td>76</td>\n",
       "      <td>5</td>\n",
       "      <td>0.185608</td>\n",
       "      <td>1</td>\n",
       "      <td>0</td>\n",
       "      <td>1</td>\n",
       "      <td>0</td>\n",
       "    </tr>\n",
       "    <tr>\n",
       "      <th>267545</th>\n",
       "      <td>10</td>\n",
       "      <td>75</td>\n",
       "      <td>3.24</td>\n",
       "      <td>5</td>\n",
       "      <td>34</td>\n",
       "      <td>2021</td>\n",
       "      <td>51</td>\n",
       "      <td>5</td>\n",
       "      <td>0.185608</td>\n",
       "      <td>0</td>\n",
       "      <td>1</td>\n",
       "      <td>1</td>\n",
       "      <td>0</td>\n",
       "    </tr>\n",
       "    <tr>\n",
       "      <th>267547</th>\n",
       "      <td>8</td>\n",
       "      <td>46</td>\n",
       "      <td>7.96</td>\n",
       "      <td>5</td>\n",
       "      <td>34</td>\n",
       "      <td>2021</td>\n",
       "      <td>6</td>\n",
       "      <td>1</td>\n",
       "      <td>0.185608</td>\n",
       "      <td>0</td>\n",
       "      <td>1</td>\n",
       "      <td>1</td>\n",
       "      <td>0</td>\n",
       "    </tr>\n",
       "    <tr>\n",
       "      <th>267548</th>\n",
       "      <td>9</td>\n",
       "      <td>50</td>\n",
       "      <td>10.00</td>\n",
       "      <td>5</td>\n",
       "      <td>34</td>\n",
       "      <td>2021</td>\n",
       "      <td>7</td>\n",
       "      <td>1</td>\n",
       "      <td>0.185608</td>\n",
       "      <td>1</td>\n",
       "      <td>0</td>\n",
       "      <td>1</td>\n",
       "      <td>0</td>\n",
       "    </tr>\n",
       "    <tr>\n",
       "      <th>267549</th>\n",
       "      <td>9</td>\n",
       "      <td>41</td>\n",
       "      <td>14.89</td>\n",
       "      <td>5</td>\n",
       "      <td>34</td>\n",
       "      <td>2021</td>\n",
       "      <td>15</td>\n",
       "      <td>1</td>\n",
       "      <td>0.185608</td>\n",
       "      <td>0</td>\n",
       "      <td>1</td>\n",
       "      <td>1</td>\n",
       "      <td>0</td>\n",
       "    </tr>\n",
       "  </tbody>\n",
       "</table>\n",
       "<p>252342 rows × 13 columns</p>\n",
       "</div>"
      ],
      "text/plain": [
       "        horario_inicio  edad     km  dia_semana  semana   año  \\\n",
       "0                    9    68  53.30           1      36  2018   \n",
       "1                    9    43   3.24           1      36  2018   \n",
       "2                    9    36   3.24           1      36  2018   \n",
       "3                   11    78   6.78           1      36  2018   \n",
       "4                   10    75   2.21           1      36  2018   \n",
       "...                ...   ...    ...         ...     ...   ...   \n",
       "267544              10    78  10.00           5      34  2021   \n",
       "267545              10    75   3.24           5      34  2021   \n",
       "267547               8    46   7.96           5      34  2021   \n",
       "267548               9    50  10.00           5      34  2021   \n",
       "267549               9    41  14.89           5      34  2021   \n",
       "\n",
       "        numero de visita  inasistencias_previas  \\\n",
       "0                      1                      0   \n",
       "1                      1                      0   \n",
       "2                      1                      0   \n",
       "3                      1                      0   \n",
       "4                      1                      0   \n",
       "...                  ...                    ...   \n",
       "267544                76                      5   \n",
       "267545                51                      5   \n",
       "267547                 6                      1   \n",
       "267548                 7                      1   \n",
       "267549                15                      1   \n",
       "\n",
       "        porcentaje_inasistencia_departamentos  genero_femenino  \\\n",
       "0                                    0.185608                1   \n",
       "1                                    0.185608                1   \n",
       "2                                    0.185608                0   \n",
       "3                                    0.185608                1   \n",
       "4                                    0.185608                0   \n",
       "...                                       ...              ...   \n",
       "267544                               0.185608                1   \n",
       "267545                               0.185608                0   \n",
       "267547                               0.185608                0   \n",
       "267548                               0.185608                1   \n",
       "267549                               0.185608                0   \n",
       "\n",
       "        genero_masculino  nacionalidad2_ESP  nacionalidad2_Extranjero  \n",
       "0                      0                  1                         0  \n",
       "1                      0                  1                         0  \n",
       "2                      1                  1                         0  \n",
       "3                      0                  1                         0  \n",
       "4                      1                  1                         0  \n",
       "...                  ...                ...                       ...  \n",
       "267544                 0                  1                         0  \n",
       "267545                 1                  1                         0  \n",
       "267547                 1                  1                         0  \n",
       "267548                 0                  1                         0  \n",
       "267549                 1                  1                         0  \n",
       "\n",
       "[252342 rows x 13 columns]"
      ]
     },
     "execution_count": 151,
     "metadata": {},
     "output_type": "execute_result"
    }
   ],
   "source": [
    "df2"
   ]
  },
  {
   "cell_type": "code",
   "execution_count": 157,
   "id": "02135e62",
   "metadata": {
    "ExecuteTime": {
     "end_time": "2022-03-07T09:42:11.400002Z",
     "start_time": "2022-03-07T09:42:11.351663Z"
    }
   },
   "outputs": [],
   "source": [
    "X=df2\n",
    "y=df.asistencia.replace(\"NO\",0).replace(\"SI\",1)"
   ]
  },
  {
   "cell_type": "code",
   "execution_count": 158,
   "id": "28b69635",
   "metadata": {
    "ExecuteTime": {
     "end_time": "2022-03-07T09:42:11.827278Z",
     "start_time": "2022-03-07T09:42:11.765573Z"
    }
   },
   "outputs": [],
   "source": [
    "X_train, X_test, y_train, y_test = train_test_split(X,y,test_size=.2, random_state=42)"
   ]
  },
  {
   "cell_type": "code",
   "execution_count": 159,
   "id": "1257237a",
   "metadata": {
    "ExecuteTime": {
     "end_time": "2022-03-07T09:42:13.334147Z",
     "start_time": "2022-03-07T09:42:13.259147Z"
    }
   },
   "outputs": [
    {
     "data": {
      "text/plain": [
       "0.026110133140583747"
      ]
     },
     "execution_count": 159,
     "metadata": {},
     "output_type": "execute_result"
    }
   ],
   "source": [
    "lr = LinearRegression()\n",
    "\n",
    "lr.fit(X_train, y_train)\n",
    "\n",
    "lr.score(X_test, y_test)"
   ]
  },
  {
   "cell_type": "code",
   "execution_count": 160,
   "id": "a02b505a",
   "metadata": {
    "ExecuteTime": {
     "end_time": "2022-03-07T09:42:15.446087Z",
     "start_time": "2022-03-07T09:42:14.725798Z"
    },
    "scrolled": true
   },
   "outputs": [],
   "source": [
    "#modelo1\n",
    "model1=DecisionTreeRegressor().fit(X_train,y_train)\n"
   ]
  },
  {
   "cell_type": "code",
   "execution_count": 161,
   "id": "179d2fb3",
   "metadata": {
    "ExecuteTime": {
     "end_time": "2022-03-07T09:42:15.620554Z",
     "start_time": "2022-03-07T09:42:15.589565Z"
    }
   },
   "outputs": [
    {
     "data": {
      "text/plain": [
       "-0.5088130170615004"
      ]
     },
     "execution_count": 161,
     "metadata": {},
     "output_type": "execute_result"
    }
   ],
   "source": [
    "model1.score(X_test,y_test)"
   ]
  },
  {
   "cell_type": "code",
   "execution_count": null,
   "id": "fd33f7f1",
   "metadata": {},
   "outputs": [],
   "source": [
    "#lazyregressor\n",
    "# fit all models\n",
    "reg = LazyRegressor(predictions=True)\n",
    "models, predictions = reg.fit(X_train, X_test, y_train, y_test)"
   ]
  }
 ],
 "metadata": {
  "kernelspec": {
   "display_name": "Python 3",
   "language": "python",
   "name": "python3"
  },
  "language_info": {
   "codemirror_mode": {
    "name": "ipython",
    "version": 3
   },
   "file_extension": ".py",
   "mimetype": "text/x-python",
   "name": "python",
   "nbconvert_exporter": "python",
   "pygments_lexer": "ipython3",
   "version": "3.8.8"
  },
  "toc": {
   "base_numbering": 1,
   "nav_menu": {},
   "number_sections": true,
   "sideBar": true,
   "skip_h1_title": false,
   "title_cell": "Table of Contents",
   "title_sidebar": "Contents",
   "toc_cell": false,
   "toc_position": {},
   "toc_section_display": true,
   "toc_window_display": false
  },
  "varInspector": {
   "cols": {
    "lenName": 16,
    "lenType": 16,
    "lenVar": 40
   },
   "kernels_config": {
    "python": {
     "delete_cmd_postfix": "",
     "delete_cmd_prefix": "del ",
     "library": "var_list.py",
     "varRefreshCmd": "print(var_dic_list())"
    },
    "r": {
     "delete_cmd_postfix": ") ",
     "delete_cmd_prefix": "rm(",
     "library": "var_list.r",
     "varRefreshCmd": "cat(var_dic_list()) "
    }
   },
   "types_to_exclude": [
    "module",
    "function",
    "builtin_function_or_method",
    "instance",
    "_Feature"
   ],
   "window_display": false
  }
 },
 "nbformat": 4,
 "nbformat_minor": 5
}
